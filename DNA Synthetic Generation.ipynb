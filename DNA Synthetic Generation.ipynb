{
 "cells": [
  {
   "cell_type": "markdown",
   "metadata": {
    "id": "WiojKaqzllGv",
    "pycharm": {
     "name": "#%% md\n"
    }
   },
   "source": []
  },
  {
   "cell_type": "code",
   "execution_count": 1,
   "metadata": {
    "id": "v__pcXKxp-A5",
    "executionInfo": {
     "status": "ok",
     "timestamp": 1659248955326,
     "user_tz": -120,
     "elapsed": 1191,
     "user": {
      "displayName": "Alicja K",
      "userId": "13434916405182302339"
     }
    },
    "pycharm": {
     "name": "#%%\n"
    }
   },
   "outputs": [],
   "source": [
    "import numpy as np\n",
    "from matplotlib import pyplot as plt\n",
    "import seaborn as sns\n",
    "import pandas as pd\n",
    "import re\n",
    "import math\n",
    "import pickle\n",
    "\n",
    "\n",
    "from itertools import product\n",
    "from scipy.stats import entropy\n",
    "from random import choices"
   ]
  },
  {
   "cell_type": "markdown",
   "metadata": {
    "id": "LOT_DwKmloie",
    "pycharm": {
     "name": "#%% md\n"
    }
   },
   "source": [
    "## File reading of DNA of chromosomes\n",
    "\n",
    "Downloaded from NCBI, as mentioned in the original article"
   ]
  },
  {
   "cell_type": "code",
   "execution_count": 2,
   "metadata": {
    "id": "ZnddW8NSp-A7",
    "executionInfo": {
     "status": "ok",
     "timestamp": 1659248959536,
     "user_tz": -120,
     "elapsed": 9,
     "user": {
      "displayName": "Alicja K",
      "userId": "13434916405182302339"
     }
    },
    "pycharm": {
     "name": "#%%\n"
    }
   },
   "outputs": [],
   "source": [
    "def read_file(file_name):\n",
    "  '''\n",
    "  Read in FASTA file, return processed DNA sequence as string\n",
    "  '''\n",
    "  x = []\n",
    "\n",
    "  for line in open(file_name):\n",
    "    x.append(line.strip())\n",
    "\n",
    "  metadata = x[0]\n",
    "  dna = ''.join(x[1:])\n",
    "  dna_clean = re.sub('[^CGAT]', '', dna)\n",
    "\n",
    "\n",
    "  return dna_clean"
   ]
  },
  {
   "cell_type": "code",
   "execution_count": 5,
   "metadata": {
    "id": "4xonzKrVp-A8",
    "executionInfo": {
     "status": "ok",
     "timestamp": 1659249018109,
     "user_tz": -120,
     "elapsed": 3421,
     "user": {
      "displayName": "Alicja K",
      "userId": "13434916405182302339"
     }
    },
    "pycharm": {
     "name": "#%%\n"
    }
   },
   "outputs": [],
   "source": [
    "# loading the file\n",
    "file_to_read = 'NCBI_21chromosome.fa'#'NC_000001.11[11783684..11808140].fa'\n",
    "seq = read_file(file_to_read)"
   ]
  },
  {
   "cell_type": "markdown",
   "metadata": {
    "id": "uWaWfrSvmJtO",
    "pycharm": {
     "name": "#%% md\n"
    }
   },
   "source": [
    "## Finite Context Model"
   ]
  },
  {
   "cell_type": "code",
   "execution_count": 6,
   "metadata": {
    "id": "w4qU_LJKp-A9",
    "executionInfo": {
     "status": "ok",
     "timestamp": 1659249018110,
     "user_tz": -120,
     "elapsed": 10,
     "user": {
      "displayName": "Alicja K",
      "userId": "13434916405182302339"
     }
    },
    "pycharm": {
     "name": "#%%\n"
    }
   },
   "outputs": [],
   "source": [
    "# base FCM\n",
    "\n",
    "class FiniteContextModel:\n",
    "    def __init__(self, M, delta=1):\n",
    "        self.M = M # order of model\n",
    "        self.delta = delta\n",
    "\n",
    "\n",
    "        # mapping from nucleotide to integer\n",
    "        self.seq_dict = {\n",
    "            'A' : 0,\n",
    "            'T' : 1,\n",
    "            'C' : 2,\n",
    "            'G' : 3\n",
    "        }\n",
    "\n",
    "        self.n = len(self.seq_dict.keys()) # size of vocabulary, always 4 for DNA\n",
    "        \n",
    "        '''# possible combinations of order M based on vocabulary\n",
    "        combinations = [''.join(p) for p in product(self.seq_dict.keys(), repeat=self.M)]\n",
    "\n",
    "        # initial count and probs, zero for every comb\n",
    "        self.markov_freq = {comb : np.zeros(self.n) for comb in combinations}\n",
    "        self.markov_prob = {comb : np.zeros(self.n) for comb in combinations}'''\n",
    "        self.markov_freq = {}\n",
    "        self.markov_prob = {}\n",
    "\n",
    "        self.fitted = False\n",
    "\n",
    "    def fit(self, seq):\n",
    "        '''\n",
    "          Fit the model aka learn statistics from the sequence. fill in frequencies of context and their probabilities\n",
    "        \n",
    "        '''\n",
    "\n",
    "        for i in range(len(seq)-self.M):\n",
    "\n",
    "            context = seq[i:i+self.M]\n",
    "            next_nucleotide = self.seq_dict[seq[i+self.M]]\n",
    "\n",
    "            # creates the key if it doesn't exist\n",
    "            if context not in self.markov_freq:\n",
    "                self.markov_freq[context] = np.zeros(self.n)\n",
    "\n",
    "            # increase count in dict for taken context\n",
    "            self.markov_freq[context][next_nucleotide] += 1\n",
    "\n",
    "        for comb, count_array in self.markov_freq.items():\n",
    "\n",
    "            # transform to probs\n",
    "\n",
    "            total = np.sum(count_array)\n",
    "\n",
    "            self.markov_prob[comb] = (count_array + self.delta)/(total + (self.n*self.delta))\n",
    "\n",
    "        self.fitted = True\n",
    "\n",
    "    def get_statistics(self):\n",
    "        ''' \n",
    "          Returns probabilities of fitted model \n",
    "\n",
    "        '''\n",
    "\n",
    "        if not self.fitted:\n",
    "            raise Exception('Model is not fitted and probabilities are therefore equal.')\n",
    "\n",
    "        return self.markov_prob\n",
    "\n",
    "    def generate_seq(self, len_seq):\n",
    "        '''\n",
    "          Generates new sequence of length len_seq based on probabilities of fitted model\n",
    "          \n",
    "        '''\n",
    "\n",
    "        if not self.fitted:\n",
    "            raise Exception('Model is not fitted.')\n",
    "\n",
    "        start = np.random.choice(list(self.seq_dict.keys()), self.M)\n",
    "\n",
    "        context = ''.join(start)\n",
    "        gen_seq = context\n",
    "\n",
    "        while len(gen_seq) < len_seq:\n",
    "\n",
    "            if context not in self.markov_freq:\n",
    "                probs = [0.25, 0.25, 0.25, 0.25] # a: this\n",
    "            else:\n",
    "                probs = self.markov_prob[context]\n",
    "            next_nucleotide = np.random.choice(list(self.seq_dict.keys()), p=probs)\n",
    "\n",
    "            gen_seq = gen_seq + next_nucleotide\n",
    "\n",
    "            context = gen_seq[-self.M:]\n",
    "\n",
    "        return gen_seq"
   ]
  },
  {
   "cell_type": "code",
   "execution_count": 7,
   "metadata": {
    "id": "egqO47XHpSiC",
    "executionInfo": {
     "status": "ok",
     "timestamp": 1659249019540,
     "user_tz": -120,
     "elapsed": 5,
     "user": {
      "displayName": "Alicja K",
      "userId": "13434916405182302339"
     }
    },
    "pycharm": {
     "name": "#%%\n"
    }
   },
   "outputs": [],
   "source": [
    "def pop_multiple_models(seq, max_order = 12, increment = 2, delta = 1, fitting = True):\n",
    "    model_collection = {}\n",
    "    model_name_array = []\n",
    "\n",
    "    # loop that creates all models of orders M\n",
    "    for M in range (2, max_order + 1, increment):\n",
    "        key = 'fcm_' + str(M)\n",
    "\n",
    "        value = FiniteContextModel(M, delta)\n",
    "        if fitting:\n",
    "            value.fit(seq)\n",
    "\n",
    "        model_collection[key] = value\n",
    "        model_name_array.append(key)\n",
    "\n",
    "        # turns things into a list\n",
    "        model_list = list(model_collection.values())\n",
    "\n",
    "    return model_collection, model_name_array"
   ]
  },
  {
   "cell_type": "code",
   "execution_count": null,
   "metadata": {
    "colab": {
     "base_uri": "https://localhost:8080/"
    },
    "executionInfo": {
     "elapsed": 414192,
     "status": "ok",
     "timestamp": 1659080788867,
     "user": {
      "displayName": "Benjamin Lee",
      "userId": "05206156339145726048"
     },
     "user_tz": -120
    },
    "id": "v9kgRwG41g0K",
    "outputId": "67de04b3-b8eb-4ee1-b215-f3adc5c82a8b",
    "pycharm": {
     "name": "#%%\n"
    }
   },
   "outputs": [
    {
     "name": "stdout",
     "output_type": "stream",
     "text": [
      "CPU times: user 6min 38s, sys: 6.42 s, total: 6min 44s\n",
      "Wall time: 6min 42s\n"
     ]
    }
   ],
   "source": [
    "%%time\n",
    "\n",
    "model_collection, model_name_array = pop_multiple_models(seq)"
   ]
  },
  {
   "cell_type": "code",
   "execution_count": null,
   "metadata": {
    "id": "z13s2_5MtYxK",
    "pycharm": {
     "name": "#%%\n"
    }
   },
   "outputs": [],
   "source": [
    "# creating the list of models to feed into the stacked versions\n",
    "model_list = list(model_collection.values())\n",
    "\n",
    "\n",
    "# half version, for other sequences\n",
    "half_model_name_array = model_name_array[1::2]\n",
    "\n",
    "half_list = []\n",
    "for key, value in model_collection.items():\n",
    "    if key in half_model_name_array:\n",
    "        half_list.append(value)"
   ]
  },
  {
   "cell_type": "code",
   "execution_count": null,
   "metadata": {
    "colab": {
     "base_uri": "https://localhost:8080/"
    },
    "executionInfo": {
     "elapsed": 12,
     "status": "ok",
     "timestamp": 1658987372026,
     "user": {
      "displayName": "Alicja K",
      "userId": "13434916405182302339"
     },
     "user_tz": -120
    },
    "id": "vBBRyEBts_Hp",
    "outputId": "9b8f5b93-b0cb-41e2-bd1d-a3d3d0a96aac",
    "pycharm": {
     "name": "#%%\n"
    }
   },
   "outputs": [
    {
     "data": {
      "text/plain": [
       "['fcm_4', 'fcm_8', 'fcm_12']"
      ]
     },
     "execution_count": 11,
     "metadata": {},
     "output_type": "execute_result"
    }
   ],
   "source": [
    "half_model_name_array"
   ]
  },
  {
   "cell_type": "markdown",
   "metadata": {
    "id": "aboOONCYuxus",
    "pycharm": {
     "name": "#%% md\n"
    }
   },
   "source": [
    "## Meta Finite Context Model (getting competing models)"
   ]
  },
  {
   "cell_type": "code",
   "execution_count": 8,
   "metadata": {
    "id": "Q9lnUuiHp2l2",
    "executionInfo": {
     "status": "ok",
     "timestamp": 1659249024139,
     "user_tz": -120,
     "elapsed": 378,
     "user": {
      "displayName": "Alicja K",
      "userId": "13434916405182302339"
     }
    },
    "pycharm": {
     "name": "#%%\n"
    }
   },
   "outputs": [],
   "source": [
    "# this class takes advantage of multiple Finite Context Models - it takes into consideration all \n",
    "# the models in list and makes a choice of the best one during generation\n",
    "\n",
    "class MetaFiniteContextModel:\n",
    "\n",
    "  def __init__(self, model_list, model_name_array, block_size, word_size=5):\n",
    "    self.model_list = model_list\n",
    "    self.model_name_array = model_name_array\n",
    "    self.block_size = block_size\n",
    "    self.word_size = word_size\n",
    "\n",
    "\n",
    "  def _calculate_bitrate(self, gen_seq):\n",
    "\n",
    "    # that means process whole seq (used intentionnaly for seq D - cant be executed due to limited RAM)\n",
    "    if self.word_size == 0:\n",
    "      self.word_size = len(gen_seq)\n",
    "    \n",
    "    seq_blocks = [gen_seq[idx:idx + self.word_size] for idx in range(0, len(gen_seq), self.word_size)]\n",
    "\n",
    "    # mapping from nucleotide to integer\n",
    "    seq_dict = {\n",
    "        'A' : 0,\n",
    "        'T' : 1,\n",
    "        'C' : 2,\n",
    "        'G' : 3\n",
    "    } \n",
    "\n",
    "    # possible combinations of order word_size based on vocabulary\n",
    "    combinations = [''.join(p) for p in product(seq_dict.keys(), repeat=self.word_size)]\n",
    "\n",
    "    seq_dist = [seq_blocks.count(comb)/len(gen_seq) for comb in combinations]\n",
    "\n",
    "\n",
    "    return entropy(seq_dist, base=2)\n",
    "\n",
    "\n",
    "  def _best_model_selector(self, block_size):\n",
    "    ''' \n",
    "    Based on bitrate choose model from list \n",
    "    \n",
    "    '''\n",
    "\n",
    "    current_min_bitrate = 999\n",
    "    current_best_sequence = ''\n",
    "\n",
    "    # create block-sized sequences for all models\n",
    "    for model in self.model_list:\n",
    "\n",
    "        gen_seq = model.generate_seq(block_size)\n",
    "        bitrate = self._calculate_bitrate(gen_seq)\n",
    "\n",
    "        if bitrate < current_min_bitrate:\n",
    "\n",
    "            current_min_bitrate = bitrate\n",
    "            current_best_sequence = gen_seq\n",
    "            model_index = self.model_list.index(model)\n",
    "\n",
    "    return current_best_sequence, model_index, current_min_bitrate\n",
    "\n",
    "  def generate_sequence(self, seq_length):\n",
    "    ''' \n",
    "    Creating the full sequence based on the best competing model\n",
    "\n",
    "    '''\n",
    "    new_seq = ''\n",
    "\n",
    "    total_blocks = math.ceil(seq_length/self.block_size)\n",
    "    last_block_size = seq_length % self.block_size\n",
    "\n",
    "    best_model_list = []\n",
    "    information_content = []\n",
    "\n",
    "    for i in range(total_blocks):\n",
    "\n",
    "        if i == total_blocks - 1:\n",
    "            competed_seq, best_index, gen_seq_bitrate = self._best_model_selector(last_block_size)\n",
    "        else:\n",
    "            competed_seq, best_index, gen_seq_bitrate = self._best_model_selector(self.block_size)\n",
    "        \n",
    "        new_seq += competed_seq\n",
    "\n",
    "        best_model_list.append(self.model_name_array[best_index])\n",
    "        information_content.append(gen_seq_bitrate)\n",
    "\n",
    "    return new_seq, best_model_list, information_content"
   ]
  },
  {
   "cell_type": "code",
   "execution_count": null,
   "metadata": {
    "id": "wQ6QV4v4sR0i",
    "pycharm": {
     "name": "#%%\n"
    }
   },
   "outputs": [],
   "source": [
    "single_model = MetaFiniteContextModel([model_collection['fcm_6']], ['fcm_6'], 100)\n",
    "half_model = MetaFiniteContextModel(half_list, half_model_name_array, 100)\n",
    "full_model = MetaFiniteContextModel(model_list, model_name_array, 100)"
   ]
  },
  {
   "cell_type": "code",
   "execution_count": null,
   "metadata": {
    "id": "ek8AaxidnKuZ",
    "pycharm": {
     "name": "#%%\n"
    }
   },
   "outputs": [],
   "source": [
    "half_seq, best_halfmodel_list, _ = half_model.generate_sequence(len(seq))"
   ]
  },
  {
   "cell_type": "code",
   "execution_count": null,
   "metadata": {
    "id": "Z4LJOS4-yw5t",
    "pycharm": {
     "name": "#%%\n"
    }
   },
   "outputs": [],
   "source": [
    "new_seq, best_model_list, _ = full_model.generate_sequence(len(seq))"
   ]
  },
  {
   "cell_type": "code",
   "execution_count": null,
   "metadata": {
    "id": "huc5ULkFrowN",
    "pycharm": {
     "name": "#%%\n"
    }
   },
   "outputs": [],
   "source": [
    "single_seq, _, _ = single_model.generate_sequence(len(seq))"
   ]
  },
  {
   "cell_type": "code",
   "execution_count": null,
   "metadata": {
    "id": "H7H76Z7udJQ5",
    "pycharm": {
     "name": "#%%\n"
    }
   },
   "outputs": [],
   "source": [
    "random_seq = ''.join(choices(['C', 'G', 'A', 'T'], k=len(seq))) # as baseline "
   ]
  },
  {
   "cell_type": "code",
   "execution_count": null,
   "metadata": {
    "id": "HxtW-gsBkI5H",
    "pycharm": {
     "name": "#%%\n"
    }
   },
   "outputs": [],
   "source": [
    "# save for ease of use later for evaluation\n",
    "pickle.dump(half_seq, open( \"half_seq.seq\", \"wb\" ) )\n",
    "pickle.dump(random_seq, open( \"random_seq.seq\", \"wb\" ))\n",
    "pickle.dump(single_seq, open( \"single_seq.seq\", \"wb\" ))"
   ]
  },
  {
   "cell_type": "markdown",
   "metadata": {
    "id": "_7DfmsWuj_dt",
    "pycharm": {
     "name": "#%% md\n"
    }
   },
   "source": [
    "# Evaluation"
   ]
  },
  {
   "cell_type": "code",
   "execution_count": 9,
   "metadata": {
    "id": "FYrufGdZmBEd",
    "executionInfo": {
     "status": "ok",
     "timestamp": 1659249028959,
     "user_tz": -120,
     "elapsed": 315,
     "user": {
      "displayName": "Alicja K",
      "userId": "13434916405182302339"
     }
    },
    "pycharm": {
     "name": "#%%\n"
    }
   },
   "outputs": [],
   "source": [
    "# calculates the two KL divergences of any two sequences\n",
    "def kl_divergence(seq1, seq2, word_size=5):\n",
    "    \n",
    "    if len(seq1) != len(seq2):\n",
    "        raise Exception('Both sequences must be of the same size')\n",
    "    \n",
    "    seq1_blocks = [seq1[idx:idx + word_size] for idx in range(0, len(seq1), word_size)]\n",
    "    seq2_blocks = [seq2[idx:idx + word_size] for idx in range(0, len(seq2), word_size)]\n",
    "\n",
    "    size = len(seq1_blocks)\n",
    "\n",
    "    # mapping from nucleotide to integer\n",
    "    seq_dict = {\n",
    "        'A' : 0,\n",
    "        'T' : 1,\n",
    "        'C' : 2,\n",
    "        'G' : 3\n",
    "    }\n",
    "    # possible combinations of order word_size based on vocabulary\n",
    "    combinations = [''.join(p) for p in product(seq_dict.keys(), repeat=word_size)]\n",
    "    \n",
    "    seq1_dist = []\n",
    "    seq2_dist = []\n",
    "\n",
    "    for comb in combinations:\n",
    "        seq1_dist.append(seq1_blocks.count(comb)/size)\n",
    "        seq2_dist.append(seq2_blocks.count(comb)/size)\n",
    "\n",
    "    divergence = entropy(seq1_dist, qk = seq2_dist, base=2)\n",
    "\n",
    "    return divergence"
   ]
  },
  {
   "cell_type": "code",
   "execution_count": null,
   "metadata": {
    "id": "vdbTHzxvIHbQ",
    "pycharm": {
     "name": "#%%\n"
    }
   },
   "outputs": [],
   "source": [
    "# pre-load generated sequences from code from above sections to evaluate\n",
    "\n",
    "new_seq = pickle.load( open( 'new_seq.seq', 'rb') )\n",
    "random_seq = pickle.load( open( 'random_seq.seq', 'rb') )\n",
    "single_seq = pickle.load( open( 'single_seq.seq', 'rb') )\n",
    "half_seq = pickle.load( open( 'half_seq.seq', 'rb') )"
   ]
  },
  {
   "cell_type": "markdown",
   "metadata": {
    "id": "-ZfACCl2kGFt",
    "pycharm": {
     "name": "#%% md\n"
    }
   },
   "source": [
    "## Compare KL divergence between different models"
   ]
  },
  {
   "cell_type": "code",
   "execution_count": null,
   "metadata": {
    "colab": {
     "base_uri": "https://localhost:8080/"
    },
    "executionInfo": {
     "elapsed": 1433101,
     "status": "ok",
     "timestamp": 1659090522324,
     "user": {
      "displayName": "Benjamin Lee",
      "userId": "05206156339145726048"
     },
     "user_tz": -120
    },
    "id": "sg0lbPbs03xJ",
    "outputId": "159c045f-d509-4187-d244-1169bdb3dc71",
    "pycharm": {
     "name": "#%%\n"
    }
   },
   "outputs": [
    {
     "name": "stdout",
     "output_type": "stream",
     "text": [
      "CPU times: user 23min 54s, sys: 12.9 s, total: 24min 6s\n",
      "Wall time: 23min 52s\n"
     ]
    }
   ],
   "source": [
    "%%time\n",
    "compare_all = kl_divergence(seq, new_seq, word_size = 5)\n",
    "compare_half = kl_divergence(seq, half_seq, word_size = 5)\n",
    "compare_single = kl_divergence(seq, single_seq, word_size = 5)\n",
    "compare_random = kl_divergence(seq, random_seq, word_size = 5)"
   ]
  },
  {
   "cell_type": "code",
   "execution_count": null,
   "metadata": {
    "id": "1oEcvSOT4Zcx",
    "pycharm": {
     "name": "#%%\n"
    }
   },
   "outputs": [],
   "source": [
    "comparison_complete = [compare_random, compare_single, compare_half, compare_all]"
   ]
  },
  {
   "cell_type": "code",
   "execution_count": null,
   "metadata": {
    "colab": {
     "base_uri": "https://localhost:8080/"
    },
    "executionInfo": {
     "elapsed": 6,
     "status": "ok",
     "timestamp": 1659090522324,
     "user": {
      "displayName": "Benjamin Lee",
      "userId": "05206156339145726048"
     },
     "user_tz": -120
    },
    "id": "IQfox9-I5C4-",
    "outputId": "f8fe6c69-745c-4e0d-d606-4004b37f2be7",
    "pycharm": {
     "name": "#%%\n"
    }
   },
   "outputs": [
    {
     "name": "stdout",
     "output_type": "stream",
     "text": [
      "[0.33241155832837177, 0.0025414146598010437, 0.008848265942491548, 0.008215183213789988]\n"
     ]
    }
   ],
   "source": [
    "print(comparison_complete)"
   ]
  },
  {
   "cell_type": "markdown",
   "metadata": {
    "id": "_ooe9soikLFB",
    "pycharm": {
     "name": "#%% md\n"
    }
   },
   "source": [
    "## Compare KL divergence for different word sizes"
   ]
  },
  {
   "cell_type": "code",
   "execution_count": null,
   "metadata": {
    "colab": {
     "base_uri": "https://localhost:8080/"
    },
    "executionInfo": {
     "elapsed": 1652604,
     "status": "ok",
     "timestamp": 1658957290313,
     "user": {
      "displayName": "Alicja K",
      "userId": "13434916405182302339"
     },
     "user_tz": -120
    },
    "id": "Gb_YUGkNk1xm",
    "outputId": "768ee149-f6de-40d4-a6ec-d5eec191e89c",
    "pycharm": {
     "name": "#%%\n"
    }
   },
   "outputs": [
    {
     "name": "stdout",
     "output_type": "stream",
     "text": [
      "CPU times: user 27min 30s, sys: 9 s, total: 27min 39s\n",
      "Wall time: 27min 32s\n"
     ]
    }
   ],
   "source": [
    "%%time\n",
    "word_sizes = np.arange(2,7)\n",
    "\n",
    "divergence_ws = [kl_divergence(seq, new_seq, word_size = w) for w in word_sizes]"
   ]
  },
  {
   "cell_type": "code",
   "execution_count": null,
   "metadata": {
    "colab": {
     "base_uri": "https://localhost:8080/",
     "height": 81
    },
    "executionInfo": {
     "elapsed": 31,
     "status": "ok",
     "timestamp": 1658957290315,
     "user": {
      "displayName": "Alicja K",
      "userId": "13434916405182302339"
     },
     "user_tz": -120
    },
    "id": "h_lrD2ZOlaHQ",
    "outputId": "5ce07721-1533-4c7e-d6db-4743863a51c7",
    "pycharm": {
     "name": "#%%\n"
    }
   },
   "outputs": [
    {
     "data": {
      "text/html": [
       "\n",
       "  <div id=\"df-31d41dd3-d482-43b6-a972-5667d15ea90a\">\n",
       "    <div class=\"colab-df-container\">\n",
       "      <div>\n",
       "<style scoped>\n",
       "    .dataframe tbody tr th:only-of-type {\n",
       "        vertical-align: middle;\n",
       "    }\n",
       "\n",
       "    .dataframe tbody tr th {\n",
       "        vertical-align: top;\n",
       "    }\n",
       "\n",
       "    .dataframe thead th {\n",
       "        text-align: right;\n",
       "    }\n",
       "</style>\n",
       "<table border=\"1\" class=\"dataframe\">\n",
       "  <thead>\n",
       "    <tr style=\"text-align: right;\">\n",
       "      <th></th>\n",
       "      <th>2</th>\n",
       "      <th>3</th>\n",
       "      <th>4</th>\n",
       "      <th>5</th>\n",
       "      <th>6</th>\n",
       "    </tr>\n",
       "  </thead>\n",
       "  <tbody>\n",
       "    <tr>\n",
       "      <th>21 chromosome</th>\n",
       "      <td>0.001116</td>\n",
       "      <td>0.002309</td>\n",
       "      <td>0.004578</td>\n",
       "      <td>0.008215</td>\n",
       "      <td>0.017159</td>\n",
       "    </tr>\n",
       "  </tbody>\n",
       "</table>\n",
       "</div>\n",
       "      <button class=\"colab-df-convert\" onclick=\"convertToInteractive('df-31d41dd3-d482-43b6-a972-5667d15ea90a')\"\n",
       "              title=\"Convert this dataframe to an interactive table.\"\n",
       "              style=\"display:none;\">\n",
       "        \n",
       "  <svg xmlns=\"http://www.w3.org/2000/svg\" height=\"24px\"viewBox=\"0 0 24 24\"\n",
       "       width=\"24px\">\n",
       "    <path d=\"M0 0h24v24H0V0z\" fill=\"none\"/>\n",
       "    <path d=\"M18.56 5.44l.94 2.06.94-2.06 2.06-.94-2.06-.94-.94-2.06-.94 2.06-2.06.94zm-11 1L8.5 8.5l.94-2.06 2.06-.94-2.06-.94L8.5 2.5l-.94 2.06-2.06.94zm10 10l.94 2.06.94-2.06 2.06-.94-2.06-.94-.94-2.06-.94 2.06-2.06.94z\"/><path d=\"M17.41 7.96l-1.37-1.37c-.4-.4-.92-.59-1.43-.59-.52 0-1.04.2-1.43.59L10.3 9.45l-7.72 7.72c-.78.78-.78 2.05 0 2.83L4 21.41c.39.39.9.59 1.41.59.51 0 1.02-.2 1.41-.59l7.78-7.78 2.81-2.81c.8-.78.8-2.07 0-2.86zM5.41 20L4 18.59l7.72-7.72 1.47 1.35L5.41 20z\"/>\n",
       "  </svg>\n",
       "      </button>\n",
       "      \n",
       "  <style>\n",
       "    .colab-df-container {\n",
       "      display:flex;\n",
       "      flex-wrap:wrap;\n",
       "      gap: 12px;\n",
       "    }\n",
       "\n",
       "    .colab-df-convert {\n",
       "      background-color: #E8F0FE;\n",
       "      border: none;\n",
       "      border-radius: 50%;\n",
       "      cursor: pointer;\n",
       "      display: none;\n",
       "      fill: #1967D2;\n",
       "      height: 32px;\n",
       "      padding: 0 0 0 0;\n",
       "      width: 32px;\n",
       "    }\n",
       "\n",
       "    .colab-df-convert:hover {\n",
       "      background-color: #E2EBFA;\n",
       "      box-shadow: 0px 1px 2px rgba(60, 64, 67, 0.3), 0px 1px 3px 1px rgba(60, 64, 67, 0.15);\n",
       "      fill: #174EA6;\n",
       "    }\n",
       "\n",
       "    [theme=dark] .colab-df-convert {\n",
       "      background-color: #3B4455;\n",
       "      fill: #D2E3FC;\n",
       "    }\n",
       "\n",
       "    [theme=dark] .colab-df-convert:hover {\n",
       "      background-color: #434B5C;\n",
       "      box-shadow: 0px 1px 3px 1px rgba(0, 0, 0, 0.15);\n",
       "      filter: drop-shadow(0px 1px 2px rgba(0, 0, 0, 0.3));\n",
       "      fill: #FFFFFF;\n",
       "    }\n",
       "  </style>\n",
       "\n",
       "      <script>\n",
       "        const buttonEl =\n",
       "          document.querySelector('#df-31d41dd3-d482-43b6-a972-5667d15ea90a button.colab-df-convert');\n",
       "        buttonEl.style.display =\n",
       "          google.colab.kernel.accessAllowed ? 'block' : 'none';\n",
       "\n",
       "        async function convertToInteractive(key) {\n",
       "          const element = document.querySelector('#df-31d41dd3-d482-43b6-a972-5667d15ea90a');\n",
       "          const dataTable =\n",
       "            await google.colab.kernel.invokeFunction('convertToInteractive',\n",
       "                                                     [key], {});\n",
       "          if (!dataTable) return;\n",
       "\n",
       "          const docLinkHtml = 'Like what you see? Visit the ' +\n",
       "            '<a target=\"_blank\" href=https://colab.research.google.com/notebooks/data_table.ipynb>data table notebook</a>'\n",
       "            + ' to learn more about interactive tables.';\n",
       "          element.innerHTML = '';\n",
       "          dataTable['output_type'] = 'display_data';\n",
       "          await google.colab.output.renderOutput(dataTable, element);\n",
       "          const docLink = document.createElement('div');\n",
       "          docLink.innerHTML = docLinkHtml;\n",
       "          element.appendChild(docLink);\n",
       "        }\n",
       "      </script>\n",
       "    </div>\n",
       "  </div>\n",
       "  "
      ],
      "text/plain": [
       "                      2         3         4         5         6\n",
       "21 chromosome  0.001116  0.002309  0.004578  0.008215  0.017159"
      ]
     },
     "execution_count": 13,
     "metadata": {},
     "output_type": "execute_result"
    }
   ],
   "source": [
    "pd.DataFrame(dict(zip(word_sizes, divergence_ws)), index=['21 chromosome'])"
   ]
  },
  {
   "cell_type": "markdown",
   "metadata": {
    "id": "KGvJsHFxr6qx",
    "pycharm": {
     "name": "#%% md\n"
    }
   },
   "source": [
    "## Information content"
   ]
  },
  {
   "cell_type": "code",
   "execution_count": 10,
   "metadata": {
    "id": "YR7_rL8qr6Oj",
    "executionInfo": {
     "status": "ok",
     "timestamp": 1659249064611,
     "user_tz": -120,
     "elapsed": 7521,
     "user": {
      "displayName": "Alicja K",
      "userId": "13434916405182302339"
     }
    },
    "pycharm": {
     "name": "#%%\n"
    }
   },
   "outputs": [],
   "source": [
    "# loading the file of 1 chromosome\n",
    "file_to_read = 'NC_1chromosome.fa' \n",
    "seq1 = read_file(file_to_read)"
   ]
  },
  {
   "cell_type": "code",
   "execution_count": 11,
   "metadata": {
    "id": "XkeuC6mzx_mE",
    "executionInfo": {
     "status": "ok",
     "timestamp": 1659249069534,
     "user_tz": -120,
     "elapsed": 4948,
     "user": {
      "displayName": "Alicja K",
      "userId": "13434916405182302339"
     }
    },
    "pycharm": {
     "name": "#%%\n"
    }
   },
   "outputs": [],
   "source": [
    "# loading the file of Y chromosome\n",
    "file_to_read = 'NCBI_Ychromosome.fa' \n",
    "seqY = read_file(file_to_read)"
   ]
  },
  {
   "cell_type": "code",
   "execution_count": 292,
   "metadata": {
    "id": "eN9auyKSF_7s",
    "executionInfo": {
     "status": "ok",
     "timestamp": 1659275545806,
     "user_tz": -120,
     "elapsed": 315,
     "user": {
      "displayName": "Alicja K",
      "userId": "13434916405182302339"
     }
    },
    "pycharm": {
     "name": "#%%\n"
    }
   },
   "outputs": [],
   "source": [
    "seq1 = seq1[:1000000] # get only first 1mil nucleotides as in paper\n",
    "seqY = seqY[:22000000] # almost whole seq, in paper 22mil"
   ]
  },
  {
   "cell_type": "code",
   "execution_count": 294,
   "metadata": {
    "colab": {
     "base_uri": "https://localhost:8080/"
    },
    "executionInfo": {
     "elapsed": 8,
     "status": "ok",
     "timestamp": 1659275553317,
     "user": {
      "displayName": "Alicja K",
      "userId": "13434916405182302339"
     },
     "user_tz": -120
    },
    "id": "UqrnN25ZGIEF",
    "outputId": "7733a925-59da-4ae6-a2c2-3161cbd4e4a3",
    "pycharm": {
     "name": "#%%\n"
    }
   },
   "outputs": [
    {
     "output_type": "execute_result",
     "data": {
      "text/plain": [
       "(1000000, 22000000)"
      ]
     },
     "metadata": {},
     "execution_count": 294
    }
   ],
   "source": [
    "len(seq1), len(seqY)"
   ]
  },
  {
   "cell_type": "code",
   "execution_count": null,
   "metadata": {
    "id": "vvCJfBPttM9s",
    "pycharm": {
     "name": "#%%\n"
    }
   },
   "outputs": [],
   "source": [
    "model_collection1, full_model_name_array = pop_multiple_models(seq1) # full set for seqC\n",
    "model_collectionY, full_model_name_array = pop_multiple_models(seqY)"
   ]
  },
  {
   "cell_type": "code",
   "execution_count": null,
   "metadata": {
    "id": "28OoDSFexmpJ",
    "pycharm": {
     "name": "#%%\n"
    }
   },
   "outputs": [],
   "source": [
    "full_model_list1 = list(model_collection1.values())\n",
    "full_model_listY = list(model_collectionY.values())"
   ]
  },
  {
   "cell_type": "code",
   "execution_count": null,
   "metadata": {
    "id": "neiTw-3_GKRf",
    "pycharm": {
     "name": "#%%\n"
    }
   },
   "outputs": [],
   "source": [
    "# for chromosome 1, with different number of competeing models (1,3,6 in our case), same SI (5)\n",
    "modelA = MetaFiniteContextModel([model_collection1['fcm_6']], ['fcm_6'], 100)\n",
    "modelB = MetaFiniteContextModel([model_collection1['fcm_4'], model_collection1['fcm_8'], model_collection1['fcm_12']], ['fcm_4', 'fcm_8''fcm_12'], 100)\n",
    "modelC = MetaFiniteContextModel(full_model_list1, full_model_name_array, 100)\n",
    "\n",
    "\n",
    "# for chromosme Y, with 8 competeing models, different SI (side information)\n",
    "modelD = MetaFiniteContextModel(full_model_listY, full_model_name_array, 100, word_size=0)\n",
    "modelE = MetaFiniteContextModel(full_model_listY, full_model_name_array, 100, word_size=1)\n",
    "modelF = MetaFiniteContextModel(full_model_listY, full_model_name_array, 100, word_size=3)\n",
    "modelG = MetaFiniteContextModel(full_model_listY, full_model_name_array, 100, word_size=5)"
   ]
  },
  {
   "cell_type": "code",
   "execution_count": null,
   "metadata": {
    "colab": {
     "base_uri": "https://localhost:8080/"
    },
    "executionInfo": {
     "elapsed": 377892,
     "status": "ok",
     "timestamp": 1659127684494,
     "user": {
      "displayName": "Alicja K",
      "userId": "13434916405182302339"
     },
     "user_tz": -120
    },
    "id": "_U0Q0bfnxXzE",
    "outputId": "9fa0b949-278e-4fbc-8830-35895e1478a8",
    "pycharm": {
     "name": "#%%\n"
    }
   },
   "outputs": [
    {
     "name": "stderr",
     "output_type": "stream",
     "text": [
      "/usr/local/lib/python3.7/dist-packages/scipy/stats/_entropy.py:72: RuntimeWarning: invalid value encountered in true_divide\n",
      "  pk = 1.0*pk / np.sum(pk, axis=axis, keepdims=True)\n"
     ]
    }
   ],
   "source": [
    "seqA, seqA_best_models, seqA_information_content = modelA.generate_sequence(len(seq1))\n",
    "seqB, seqB_best_models, seqB_information_content = modelB.generate_sequence(len(seq1))\n",
    "seqC, seqC_best_models, seqC_information_content = modelC.generate_sequence(len(seq1))"
   ]
  },
  {
   "cell_type": "code",
   "execution_count": null,
   "metadata": {
    "colab": {
     "background_save": true
    },
    "id": "jGPzWd1-0ebV",
    "outputId": "255ae46d-6790-4143-99f7-ce8485593716",
    "pycharm": {
     "name": "#%%\n"
    }
   },
   "outputs": [
    {
     "name": "stderr",
     "output_type": "stream",
     "text": [
      "/usr/local/lib/python3.7/dist-packages/scipy/stats/_entropy.py:72: RuntimeWarning: invalid value encountered in true_divide\n",
      "  pk = 1.0*pk / np.sum(pk, axis=axis, keepdims=True)\n"
     ]
    }
   ],
   "source": [
    "# NOT ENOUGH RAM FOR THIS ONE\n",
    "# seqD, seqD_best_models, seqD_information_content = modelD.generate_sequence(len(seqY)) \n",
    "\n",
    "seqE, seqE_best_models, seqE_information_content = modelE.generate_sequence(len(seqY))\n",
    "seqF, seqF_best_models, seqF_information_content = modelF.generate_sequence(len(seqY))\n",
    "seqG, seqG_best_models, seqG_information_content = modelG.generate_sequence(len(seqY))\n"
   ]
  },
  {
   "cell_type": "code",
   "execution_count": null,
   "metadata": {
    "id": "0MXke7g5xXiW",
    "pycharm": {
     "name": "#%%\n"
    }
   },
   "outputs": [],
   "source": [
    "# pickle.dump(seqA, open( \"seqA.seq\", \"wb\" ) )\n",
    "# pickle.dump(seqB, open( \"seqB.seq\", \"wb\" ))\n",
    "# pickle.dump(seqC, open( \"seqC.seq\", \"wb\" ))\n",
    "\n",
    "# pickle.dump(seqA_information_content, open( \"seqA_information_content.seq\", \"wb\" ))\n",
    "# pickle.dump(seqB_information_content, open( \"seqB_information_content.seq\", \"wb\" ))\n",
    "# pickle.dump(seqC_information_content, open( \"seqc_information_content.seq\", \"wb\" ))\n",
    "\n",
    "# pickle.dump(seqE_information_content, open( \"seqE_information_content.seq\", \"wb\" ))\n",
    "# pickle.dump(seqE, open( \"seqE.seq\", \"wb\" ))\n",
    "# pickle.dump(seqF_information_content, open( \"seqF_information_content.seq\", \"wb\" ))\n",
    "# pickle.dump(seqF, open( \"seqF.seq\", \"wb\" ))\n",
    "# pickle.dump(seqG_information_content, open( \"seqG_information_content.seq\", \"wb\" ))\n",
    "# pickle.dump(seqG, open( \"seqG.seq\", \"wb\" ))"
   ]
  },
  {
   "cell_type": "code",
   "execution_count": 12,
   "metadata": {
    "id": "Oe23Q7bkrSBM",
    "executionInfo": {
     "status": "ok",
     "timestamp": 1659249239018,
     "user_tz": -120,
     "elapsed": 4552,
     "user": {
      "displayName": "Alicja K",
      "userId": "13434916405182302339"
     }
    },
    "pycharm": {
     "name": "#%%\n"
    }
   },
   "outputs": [],
   "source": [
    "seqA_information_content = pickle.load( open( 'seqA_information_content.seq', 'rb') )\n",
    "seqB_information_content = pickle.load( open( 'seqB_information_content.seq', 'rb') )\n",
    "seqC_information_content = pickle.load( open( 'seqc_information_content.seq', 'rb') )\n",
    "\n",
    "seqE_information_content = pickle.load( open( 'seqE_information_content.seq', 'rb') )\n",
    "seqF_information_content = pickle.load( open( 'seqF_information_content.seq', 'rb') )\n",
    "seqG_information_content = pickle.load( open( 'seqG_information_content.seq', 'rb') )"
   ]
  },
  {
   "cell_type": "code",
   "execution_count": 117,
   "metadata": {
    "id": "hgk9Mr4sh2KC",
    "executionInfo": {
     "status": "ok",
     "timestamp": 1659251515384,
     "user_tz": -120,
     "elapsed": 415,
     "user": {
      "displayName": "Alicja K",
      "userId": "13434916405182302339"
     }
    },
    "pycharm": {
     "name": "#%%\n"
    }
   },
   "outputs": [],
   "source": [
    "import scipy.signal as sc\n",
    "\n",
    "# construct window lowpass filter (with blackman window)\n",
    "filter = sc.firwin(21, 0.5, scale=True, window='blackman', pass_zero='lowpass')"
   ]
  },
  {
   "cell_type": "code",
   "execution_count": 149,
   "metadata": {
    "id": "uFO_FNNN2vMd",
    "executionInfo": {
     "status": "ok",
     "timestamp": 1659251892123,
     "user_tz": -120,
     "elapsed": 403,
     "user": {
      "displayName": "Alicja K",
      "userId": "13434916405182302339"
     }
    },
    "pycharm": {
     "name": "#%%\n"
    }
   },
   "outputs": [],
   "source": [
    "# this was scaling manipulation, possible to obtain authors scale with some tuning, but imo not the way to go\n",
    "# seqA_information_content_filtered = sc.filtfilt(filter, 1.4, seqA_information_content[:-1])\n",
    "# seqB_information_content_filtered = sc.filtfilt(filter, 1.4, seqB_information_content[:-1])\n",
    "# seqC_information_content_filtered = sc.filtfilt(filter, 1.4, seqC_information_content[:-1])\n",
    "\n",
    "# seqE_information_content_filtered = sc.filtfilt(filter, 0.899, seqE_information_content[:-1])\n",
    "# seqF_information_content_filtered = sc.filtfilt(filter, 1.4, seqF_information_content[:-1])\n",
    "# seqG_information_content_filtered = sc.filtfilt(filter, 1.4, seqG_information_content[:-1])"
   ]
  },
  {
   "cell_type": "code",
   "source": [
    "# filtfilt is backward-forward\n",
    "# I omit the last one since default leads to 0, could use highpass filter so it looks nicer, but might as well omit it\n",
    "seqA_information_content_filtered = sc.filtfilt(filter, 1, seqA_information_content[:-1])\n",
    "seqB_information_content_filtered = sc.filtfilt(filter, 1, seqB_information_content[:-1])\n",
    "seqC_information_content_filtered = sc.filtfilt(filter, 1, seqC_information_content[:-1])\n",
    "\n",
    "fig, ax = plt.subplots(3, 1,figsize=(12,7))\n",
    "ax[0].plot(seqA_information_content_filtered, color='black')\n",
    "ax[1].plot(seqB_information_content_filtered, color='black')\n",
    "ax[2].plot(seqC_information_content_filtered, color='black')\n",
    "\n",
    "for a in ax:\n",
    "  a.set_xlim([0, 10000])\n",
    "  a.set_ylim([3.9, 4.3])\n",
    "  a.set_xlabel('Block position')\n",
    "  a.set_ylabel('Information content')"
   ],
   "metadata": {
    "colab": {
     "base_uri": "https://localhost:8080/",
     "height": 446
    },
    "id": "_1Yvr216c2kJ",
    "executionInfo": {
     "status": "ok",
     "timestamp": 1659257519040,
     "user_tz": -120,
     "elapsed": 1396,
     "user": {
      "displayName": "Alicja K",
      "userId": "13434916405182302339"
     }
    },
    "outputId": "89015284-ff4b-4e04-cb62-e1844bbfab24",
    "pycharm": {
     "name": "#%%\n"
    }
   },
   "execution_count": 164,
   "outputs": [
    {
     "output_type": "display_data",
     "data": {
      "text/plain": [
       "<Figure size 864x504 with 3 Axes>"
      ],
      "image/png": "[encoded data removed]"
     },
     "metadata": {
      "needs_background": "light"
     }
    }
   ]
  },
  {
   "cell_type": "code",
   "source": [
    "seqE_information_content_filtered = sc.filtfilt(filter, 1, seqE_information_content[:-1])\n",
    "seqF_information_content_filtered = sc.filtfilt(filter, 1, seqF_information_content[:-1])\n",
    "seqG_information_content_filtered = sc.filtfilt(filter, 1, seqG_information_content[:-1])\n",
    "\n",
    "fig, ax = plt.subplots(3, 1,figsize=(12,7))\n",
    "ax[0].plot(seqE_information_content_filtered, color='black')\n",
    "ax[0].set_ylim([1.5, 1.9])\n",
    "ax[1].plot(seqF_information_content_filtered, color='black')\n",
    "ax[1].set_ylim([3.5, 4.2])\n",
    "ax[2].plot(seqG_information_content_filtered, color='black')\n",
    "ax[2].set_ylim([3.5, 4.2])\n",
    "\n",
    "for a in ax:\n",
    "  a.set_xlim([0, 100000])\n",
    "  # a.set_ylim([1.5, 4.3])\n",
    "  a.set_xlabel('Block position')\n",
    "  a.set_ylabel('Information content')"
   ],
   "metadata": {
    "colab": {
     "base_uri": "https://localhost:8080/",
     "height": 446
    },
    "id": "Je7ICoOudNHz",
    "executionInfo": {
     "status": "ok",
     "timestamp": 1659257767352,
     "user_tz": -120,
     "elapsed": 1798,
     "user": {
      "displayName": "Alicja K",
      "userId": "13434916405182302339"
     }
    },
    "outputId": "e0e4f047-a521-4e22-92c4-e3510972ee56",
    "pycharm": {
     "name": "#%%\n"
    }
   },
   "execution_count": 171,
   "outputs": [
    {
     "output_type": "display_data",
     "data": {
      "text/plain": [
       "<Figure size 864x504 with 3 Axes>"
      ],
      "image/png": "[encoded data removed]"
     },
     "metadata": {
      "needs_background": "light"
     }
    }
   ]
  },
  {
   "cell_type": "markdown",
   "metadata": {
    "id": "ouDSDH4RQ7E6",
    "pycharm": {
     "name": "#%% md\n"
    }
   },
   "source": [
    "## Machine Learning Test\n",
    "Comparing the performance of this ML model (https://www.kaggle.com/code/singhakash/dna-sequencing-with-machine-learning/notebook) between the original and synthetically built datasets. Synthetically built dataset consists of one separate model for each class. ML model uses the exact same settings and evaluation is done with McNemar's Test"
   ]
  },
  {
   "cell_type": "code",
   "execution_count": 152,
   "metadata": {
    "id": "rZSnqtYFSq6A",
    "executionInfo": {
     "status": "ok",
     "timestamp": 1659257211563,
     "user_tz": -120,
     "elapsed": 1557,
     "user": {
      "displayName": "Alicja K",
      "userId": "13434916405182302339"
     }
    },
    "pycharm": {
     "name": "#%%\n"
    }
   },
   "outputs": [],
   "source": [
    "# loading the file\n",
    "file_to_read = 'kaggle_human_dataset.txt'\n",
    "kaggle_dna = pd.read_table(file_to_read)"
   ]
  },
  {
   "cell_type": "code",
   "source": [
    "kaggle_dna.head()"
   ],
   "metadata": {
    "colab": {
     "base_uri": "https://localhost:8080/",
     "height": 206
    },
    "id": "LUaqEdcUb_FI",
    "executionInfo": {
     "status": "ok",
     "timestamp": 1659257228318,
     "user_tz": -120,
     "elapsed": 303,
     "user": {
      "displayName": "Alicja K",
      "userId": "13434916405182302339"
     }
    },
    "outputId": "67a6ff83-7949-481b-e788-c3b4802f57c6",
    "pycharm": {
     "name": "#%%\n"
    }
   },
   "execution_count": 154,
   "outputs": [
    {
     "output_type": "execute_result",
     "data": {
      "text/plain": [
       "                                            sequence  class\n",
       "0  ATGCCCCAACTAAATACTACCGTATGGCCCACCATAATTACCCCCA...      4\n",
       "1  ATGAACGAAAATCTGTTCGCTTCATTCATTGCCCCCACAATCCTAG...      4\n",
       "2  ATGTGTGGCATTTGGGCGCTGTTTGGCAGTGATGATTGCCTTTCTG...      3\n",
       "3  ATGTGTGGCATTTGGGCGCTGTTTGGCAGTGATGATTGCCTTTCTG...      3\n",
       "4  ATGCAACAGCATTTTGAATTTGAATACCAGACCAAAGTGGATGGTG...      3"
      ],
      "text/html": [
       "\n",
       "  <div id=\"df-7c87f3cd-3994-4e47-a77b-a0ec47d4a3d4\">\n",
       "    <div class=\"colab-df-container\">\n",
       "      <div>\n",
       "<style scoped>\n",
       "    .dataframe tbody tr th:only-of-type {\n",
       "        vertical-align: middle;\n",
       "    }\n",
       "\n",
       "    .dataframe tbody tr th {\n",
       "        vertical-align: top;\n",
       "    }\n",
       "\n",
       "    .dataframe thead th {\n",
       "        text-align: right;\n",
       "    }\n",
       "</style>\n",
       "<table border=\"1\" class=\"dataframe\">\n",
       "  <thead>\n",
       "    <tr style=\"text-align: right;\">\n",
       "      <th></th>\n",
       "      <th>sequence</th>\n",
       "      <th>class</th>\n",
       "    </tr>\n",
       "  </thead>\n",
       "  <tbody>\n",
       "    <tr>\n",
       "      <th>0</th>\n",
       "      <td>ATGCCCCAACTAAATACTACCGTATGGCCCACCATAATTACCCCCA...</td>\n",
       "      <td>4</td>\n",
       "    </tr>\n",
       "    <tr>\n",
       "      <th>1</th>\n",
       "      <td>ATGAACGAAAATCTGTTCGCTTCATTCATTGCCCCCACAATCCTAG...</td>\n",
       "      <td>4</td>\n",
       "    </tr>\n",
       "    <tr>\n",
       "      <th>2</th>\n",
       "      <td>ATGTGTGGCATTTGGGCGCTGTTTGGCAGTGATGATTGCCTTTCTG...</td>\n",
       "      <td>3</td>\n",
       "    </tr>\n",
       "    <tr>\n",
       "      <th>3</th>\n",
       "      <td>ATGTGTGGCATTTGGGCGCTGTTTGGCAGTGATGATTGCCTTTCTG...</td>\n",
       "      <td>3</td>\n",
       "    </tr>\n",
       "    <tr>\n",
       "      <th>4</th>\n",
       "      <td>ATGCAACAGCATTTTGAATTTGAATACCAGACCAAAGTGGATGGTG...</td>\n",
       "      <td>3</td>\n",
       "    </tr>\n",
       "  </tbody>\n",
       "</table>\n",
       "</div>\n",
       "      <button class=\"colab-df-convert\" onclick=\"convertToInteractive('df-7c87f3cd-3994-4e47-a77b-a0ec47d4a3d4')\"\n",
       "              title=\"Convert this dataframe to an interactive table.\"\n",
       "              style=\"display:none;\">\n",
       "        \n",
       "  <svg xmlns=\"http://www.w3.org/2000/svg\" height=\"24px\"viewBox=\"0 0 24 24\"\n",
       "       width=\"24px\">\n",
       "    <path d=\"M0 0h24v24H0V0z\" fill=\"none\"/>\n",
       "    <path d=\"M18.56 5.44l.94 2.06.94-2.06 2.06-.94-2.06-.94-.94-2.06-.94 2.06-2.06.94zm-11 1L8.5 8.5l.94-2.06 2.06-.94-2.06-.94L8.5 2.5l-.94 2.06-2.06.94zm10 10l.94 2.06.94-2.06 2.06-.94-2.06-.94-.94-2.06-.94 2.06-2.06.94z\"/><path d=\"M17.41 7.96l-1.37-1.37c-.4-.4-.92-.59-1.43-.59-.52 0-1.04.2-1.43.59L10.3 9.45l-7.72 7.72c-.78.78-.78 2.05 0 2.83L4 21.41c.39.39.9.59 1.41.59.51 0 1.02-.2 1.41-.59l7.78-7.78 2.81-2.81c.8-.78.8-2.07 0-2.86zM5.41 20L4 18.59l7.72-7.72 1.47 1.35L5.41 20z\"/>\n",
       "  </svg>\n",
       "      </button>\n",
       "      \n",
       "  <style>\n",
       "    .colab-df-container {\n",
       "      display:flex;\n",
       "      flex-wrap:wrap;\n",
       "      gap: 12px;\n",
       "    }\n",
       "\n",
       "    .colab-df-convert {\n",
       "      background-color: #E8F0FE;\n",
       "      border: none;\n",
       "      border-radius: 50%;\n",
       "      cursor: pointer;\n",
       "      display: none;\n",
       "      fill: #1967D2;\n",
       "      height: 32px;\n",
       "      padding: 0 0 0 0;\n",
       "      width: 32px;\n",
       "    }\n",
       "\n",
       "    .colab-df-convert:hover {\n",
       "      background-color: #E2EBFA;\n",
       "      box-shadow: 0px 1px 2px rgba(60, 64, 67, 0.3), 0px 1px 3px 1px rgba(60, 64, 67, 0.15);\n",
       "      fill: #174EA6;\n",
       "    }\n",
       "\n",
       "    [theme=dark] .colab-df-convert {\n",
       "      background-color: #3B4455;\n",
       "      fill: #D2E3FC;\n",
       "    }\n",
       "\n",
       "    [theme=dark] .colab-df-convert:hover {\n",
       "      background-color: #434B5C;\n",
       "      box-shadow: 0px 1px 3px 1px rgba(0, 0, 0, 0.15);\n",
       "      filter: drop-shadow(0px 1px 2px rgba(0, 0, 0, 0.3));\n",
       "      fill: #FFFFFF;\n",
       "    }\n",
       "  </style>\n",
       "\n",
       "      <script>\n",
       "        const buttonEl =\n",
       "          document.querySelector('#df-7c87f3cd-3994-4e47-a77b-a0ec47d4a3d4 button.colab-df-convert');\n",
       "        buttonEl.style.display =\n",
       "          google.colab.kernel.accessAllowed ? 'block' : 'none';\n",
       "\n",
       "        async function convertToInteractive(key) {\n",
       "          const element = document.querySelector('#df-7c87f3cd-3994-4e47-a77b-a0ec47d4a3d4');\n",
       "          const dataTable =\n",
       "            await google.colab.kernel.invokeFunction('convertToInteractive',\n",
       "                                                     [key], {});\n",
       "          if (!dataTable) return;\n",
       "\n",
       "          const docLinkHtml = 'Like what you see? Visit the ' +\n",
       "            '<a target=\"_blank\" href=https://colab.research.google.com/notebooks/data_table.ipynb>data table notebook</a>'\n",
       "            + ' to learn more about interactive tables.';\n",
       "          element.innerHTML = '';\n",
       "          dataTable['output_type'] = 'display_data';\n",
       "          await google.colab.output.renderOutput(dataTable, element);\n",
       "          const docLink = document.createElement('div');\n",
       "          docLink.innerHTML = docLinkHtml;\n",
       "          element.appendChild(docLink);\n",
       "        }\n",
       "      </script>\n",
       "    </div>\n",
       "  </div>\n",
       "  "
      ]
     },
     "metadata": {},
     "execution_count": 154
    }
   ]
  },
  {
   "cell_type": "code",
   "source": [
    "fig, ax = plt.subplots(1,2, figsize=(12,4))\n",
    "\n",
    "kaggle_dna['sequence'].apply(len).hist(bins=30, color='black', ax=ax[0])\n",
    "ax[0].set_title(\"Sequence length distribution\")\n",
    "ax[0].set_xlabel('Length of sequences')\n",
    "ax[0].grid(False)\n",
    "\n",
    "kaggle_dna['class'].value_counts().sort_index().plot.bar(color='black', ax=ax[1])\n",
    "plt.title(\"Sequence class distribution\")\n"
   ],
   "metadata": {
    "colab": {
     "base_uri": "https://localhost:8080/",
     "height": 311
    },
    "id": "YWcYJG9McBbz",
    "executionInfo": {
     "status": "ok",
     "timestamp": 1659275515648,
     "user_tz": -120,
     "elapsed": 943,
     "user": {
      "displayName": "Alicja K",
      "userId": "13434916405182302339"
     }
    },
    "outputId": "69473a65-cd1e-4a9f-aa20-af7e80dfc796",
    "pycharm": {
     "name": "#%%\n"
    }
   },
   "execution_count": 291,
   "outputs": [
    {
     "output_type": "execute_result",
     "data": {
      "text/plain": [
       "Text(0.5, 1.0, 'Sequence class distribution')"
      ]
     },
     "metadata": {},
     "execution_count": 291
    },
    {
     "output_type": "display_data",
     "data": {
      "text/plain": [
       "<Figure size 864x288 with 2 Axes>"
      ],
      "image/png": "[encoded data removed]"
     },
     "metadata": {}
    }
   ]
  },
  {
   "cell_type": "code",
   "source": [
    "kaggle_dna.groupby('class')['sequence'].apply(lambda x: ''.join(x)).apply(len).astype(float)"
   ],
   "metadata": {
    "colab": {
     "base_uri": "https://localhost:8080/"
    },
    "id": "SCbHifqF2i8P",
    "executionInfo": {
     "status": "ok",
     "timestamp": 1659268221074,
     "user_tz": -120,
     "elapsed": 669,
     "user": {
      "displayName": "Alicja K",
      "userId": "13434916405182302339"
     }
    },
    "outputId": "f2204196-b4ca-4c92-925b-8123225444cb",
    "pycharm": {
     "name": "#%%\n"
    }
   },
   "execution_count": 280,
   "outputs": [
    {
     "output_type": "execute_result",
     "data": {
      "text/plain": [
       "class\n",
       "0     829609.0\n",
       "1     777626.0\n",
       "2     642305.0\n",
       "3     679350.0\n",
       "4     623455.0\n",
       "5     466647.0\n",
       "6    1515570.0\n",
       "Name: sequence, dtype: float64"
      ]
     },
     "metadata": {},
     "execution_count": 280
    }
   ]
  },
  {
   "cell_type": "code",
   "source": [
    "def genseq_df(row):\n",
    "    global kaggle_model_collection\n",
    "    seq = kaggle_model_collection['model'+str(row['class'])].generate_seq(row['length'])\n",
    "    return seq\n",
    "\n",
    "kaggle_model_names = sorted(kaggle_dna['class'].unique())\n",
    "kaggle_model_collection = {}\n"
   ],
   "metadata": {
    "id": "v4YVe7jcy601",
    "executionInfo": {
     "status": "ok",
     "timestamp": 1659263239543,
     "user_tz": -120,
     "elapsed": 542,
     "user": {
      "displayName": "Alicja K",
      "userId": "13434916405182302339"
     }
    },
    "pycharm": {
     "name": "#%%\n"
    }
   },
   "execution_count": 195,
   "outputs": []
  },
  {
   "cell_type": "code",
   "execution_count": 284,
   "metadata": {
    "colab": {
     "base_uri": "https://localhost:8080/"
    },
    "executionInfo": {
     "elapsed": 1213176,
     "status": "ok",
     "timestamp": 1659272601670,
     "user": {
      "displayName": "Alicja K",
      "userId": "13434916405182302339"
     },
     "user_tz": -120
    },
    "id": "VIrfsRK1T3y1",
    "outputId": "c41bf2c5-3e05-4ebc-8577-2fb5c0c4e362",
    "pycharm": {
     "name": "#%%\n"
    }
   },
   "outputs": [
    {
     "output_type": "stream",
     "name": "stdout",
     "text": [
      "CPU times: user 20min 18s, sys: 33.7 s, total: 20min 52s\n",
      "Wall time: 20min 12s\n"
     ]
    }
   ],
   "source": [
    "%%time\n",
    "%%capture output \n",
    "# there is a warning regarding the entropy selection which has been suppressed with the capture output\n",
    "\n",
    "# creation of synthetic data\n",
    "def genseq_df(row):\n",
    "    global kaggle_model_collection\n",
    "    seq = kaggle_model_collection['model'+str(row['class'])].generate_seq(row['length'])\n",
    "    return seq\n",
    "\n",
    "kaggle_model_names = sorted(kaggle_dna['class'].unique())\n",
    "kaggle_model_collection = {}\n",
    "\n",
    "# first loop creates the relevant unfitted models\n",
    "for name in kaggle_model_names:\n",
    "    key = 'model'+str(name)\n",
    "    \n",
    "    current_collection, current_namelist = pop_multiple_models('', max_order = 6, increment = 1, fitting = False) \n",
    "    value = list(current_collection.values()) # puts in a list of unfitted models\n",
    "\n",
    "    kaggle_model_collection[key] = value\n",
    "\n",
    "# second loop fits the models based on the sequences provided\n",
    "for index, row in kaggle_dna.iterrows():\n",
    "    model_list = kaggle_model_collection['model'+str(row['class'])]\n",
    "\n",
    "    for model in model_list:\n",
    "        model.fit(row['sequence'])\n",
    "    \n",
    "    # puts the fitted models back into the model collection - not necessary as all models just live in memory and pointers point\n",
    "    # kaggle_model_collection['model'+str(row['class'])] = model_list\n",
    "\n",
    "# creates the combined models for each class\n",
    "metamodel_collection = {}\n",
    "\n",
    "for name in kaggle_model_names:\n",
    "    key = 'model'+str(name)\n",
    "    metamodel_collection[key] = MetaFiniteContextModel(kaggle_model_collection[key], current_namelist, 50, 4)\n",
    "\n",
    "# third loop creates a synthetic dataframe with generated strings\n",
    "synthetic_dna = kaggle_dna.copy()\n",
    "synthetic_dna['length'] = synthetic_dna['sequence'].str.len()\n",
    "\n",
    "# fourth loop creates a list of synthetic data to replace the original data, approx. 1000 per minute\n",
    "new_sequences=[]\n",
    "for index, row in synthetic_dna.iterrows():\n",
    "    new_sequences.append(metamodel_collection['model'+str(row['class'])].generate_sequence(row['length']))\n",
    "synthetic_dna['sequence'] = [item[0] for item in new_sequences]\n",
    "\n",
    "synthetic_dna.drop('length', axis = 1)"
   ]
  },
  {
   "cell_type": "code",
   "source": [
    "synthetic_dna"
   ],
   "metadata": {
    "colab": {
     "base_uri": "https://localhost:8080/",
     "height": 554
    },
    "id": "na2gYI_XA14Q",
    "executionInfo": {
     "status": "ok",
     "timestamp": 1659272612495,
     "user_tz": -120,
     "elapsed": 390,
     "user": {
      "displayName": "Alicja K",
      "userId": "13434916405182302339"
     }
    },
    "outputId": "e5f55b4a-e156-43c5-d6fc-486bd7ceb1f1",
    "pycharm": {
     "name": "#%%\n"
    }
   },
   "execution_count": 285,
   "outputs": [
    {
     "output_type": "execute_result",
     "data": {
      "text/plain": [
       "                                               sequence  class  \\\n",
       "0     GGAATTAAAAGGCAGGGCCCCGGCAGAGCAGGCCGCACTACCCTGG...      4   \n",
       "1     TATGGCCCATCCTCCAACCGCGCAAAGACCAGATCCAATCATGCTG...      4   \n",
       "2     TACAGCTGAAGATCCAAGAGTAGCTTTGAGAAAAGGAGGTGCTGAA...      3   \n",
       "3     AGCGTGGTTGTGGTCGATCAAAACCAGCTTGATTCTGGCCCCCTGC...      3   \n",
       "4     TTTTTGTGGCCAATACTGGCATGGACAAGAACTGTGTGGAAACAGG...      3   \n",
       "...                                                 ...    ...   \n",
       "4375  GCCAAAACACACCCTTCCCTGTGGAGCGAACCAGTGGTACAGGCTC...      0   \n",
       "4376  GCGCAAACCCCATCATCACACAGCTGAGGAAGAAGACAGCAAAGGG...      6   \n",
       "4377  GCGGGCGGACATGGGAGACTTCCCCAGGTACAGAATGAATCCCGTG...      6   \n",
       "4378  GACAACACCACCAAAGCACCTGGCAACCTCGGTGGAACCTCCATCA...      6   \n",
       "4379  TAGGTCGGTCGGCCGCACAGGCCAAACATCTGGAACGGGAGGGAAG...      6   \n",
       "\n",
       "                                                  words  length  \n",
       "0     [atgccc, tgcccc, gcccca, ccccaa, cccaac, ccaac...     207  \n",
       "1     [atgaac, tgaacg, gaacga, aacgaa, acgaaa, cgaaa...     681  \n",
       "2     [atgtgt, tgtgtg, gtgtgg, tgtggc, gtggca, tggca...    1686  \n",
       "3     [atgtgt, tgtgtg, gtgtgg, tgtggc, gtggca, tggca...    1206  \n",
       "4     [atgcaa, tgcaac, gcaaca, caacag, aacagc, acagc...    1437  \n",
       "...                                                 ...     ...  \n",
       "4375  [atggaa, tggaag, ggaaga, gaagat, aagatt, agatt...      57  \n",
       "4376  [atgcag, tgcagt, gcagtc, cagtcc, agtcct, gtcct...    5883  \n",
       "4377  [atgcag, tgcagt, gcagtc, cagtcc, agtcct, gtcct...    5817  \n",
       "4378  [atgggg, tggggc, ggggca, gggcac, ggcacc, gcacc...     753  \n",
       "4379  [atgcag, tgcagt, gcagtc, cagtcc, agtcct, gtcct...     459  \n",
       "\n",
       "[4380 rows x 4 columns]"
      ],
      "text/html": [
       "\n",
       "  <div id=\"df-42143836-e012-440b-888f-eeb859c062e7\">\n",
       "    <div class=\"colab-df-container\">\n",
       "      <div>\n",
       "<style scoped>\n",
       "    .dataframe tbody tr th:only-of-type {\n",
       "        vertical-align: middle;\n",
       "    }\n",
       "\n",
       "    .dataframe tbody tr th {\n",
       "        vertical-align: top;\n",
       "    }\n",
       "\n",
       "    .dataframe thead th {\n",
       "        text-align: right;\n",
       "    }\n",
       "</style>\n",
       "<table border=\"1\" class=\"dataframe\">\n",
       "  <thead>\n",
       "    <tr style=\"text-align: right;\">\n",
       "      <th></th>\n",
       "      <th>sequence</th>\n",
       "      <th>class</th>\n",
       "      <th>words</th>\n",
       "      <th>length</th>\n",
       "    </tr>\n",
       "  </thead>\n",
       "  <tbody>\n",
       "    <tr>\n",
       "      <th>0</th>\n",
       "      <td>GGAATTAAAAGGCAGGGCCCCGGCAGAGCAGGCCGCACTACCCTGG...</td>\n",
       "      <td>4</td>\n",
       "      <td>[atgccc, tgcccc, gcccca, ccccaa, cccaac, ccaac...</td>\n",
       "      <td>207</td>\n",
       "    </tr>\n",
       "    <tr>\n",
       "      <th>1</th>\n",
       "      <td>TATGGCCCATCCTCCAACCGCGCAAAGACCAGATCCAATCATGCTG...</td>\n",
       "      <td>4</td>\n",
       "      <td>[atgaac, tgaacg, gaacga, aacgaa, acgaaa, cgaaa...</td>\n",
       "      <td>681</td>\n",
       "    </tr>\n",
       "    <tr>\n",
       "      <th>2</th>\n",
       "      <td>TACAGCTGAAGATCCAAGAGTAGCTTTGAGAAAAGGAGGTGCTGAA...</td>\n",
       "      <td>3</td>\n",
       "      <td>[atgtgt, tgtgtg, gtgtgg, tgtggc, gtggca, tggca...</td>\n",
       "      <td>1686</td>\n",
       "    </tr>\n",
       "    <tr>\n",
       "      <th>3</th>\n",
       "      <td>AGCGTGGTTGTGGTCGATCAAAACCAGCTTGATTCTGGCCCCCTGC...</td>\n",
       "      <td>3</td>\n",
       "      <td>[atgtgt, tgtgtg, gtgtgg, tgtggc, gtggca, tggca...</td>\n",
       "      <td>1206</td>\n",
       "    </tr>\n",
       "    <tr>\n",
       "      <th>4</th>\n",
       "      <td>TTTTTGTGGCCAATACTGGCATGGACAAGAACTGTGTGGAAACAGG...</td>\n",
       "      <td>3</td>\n",
       "      <td>[atgcaa, tgcaac, gcaaca, caacag, aacagc, acagc...</td>\n",
       "      <td>1437</td>\n",
       "    </tr>\n",
       "    <tr>\n",
       "      <th>...</th>\n",
       "      <td>...</td>\n",
       "      <td>...</td>\n",
       "      <td>...</td>\n",
       "      <td>...</td>\n",
       "    </tr>\n",
       "    <tr>\n",
       "      <th>4375</th>\n",
       "      <td>GCCAAAACACACCCTTCCCTGTGGAGCGAACCAGTGGTACAGGCTC...</td>\n",
       "      <td>0</td>\n",
       "      <td>[atggaa, tggaag, ggaaga, gaagat, aagatt, agatt...</td>\n",
       "      <td>57</td>\n",
       "    </tr>\n",
       "    <tr>\n",
       "      <th>4376</th>\n",
       "      <td>GCGCAAACCCCATCATCACACAGCTGAGGAAGAAGACAGCAAAGGG...</td>\n",
       "      <td>6</td>\n",
       "      <td>[atgcag, tgcagt, gcagtc, cagtcc, agtcct, gtcct...</td>\n",
       "      <td>5883</td>\n",
       "    </tr>\n",
       "    <tr>\n",
       "      <th>4377</th>\n",
       "      <td>GCGGGCGGACATGGGAGACTTCCCCAGGTACAGAATGAATCCCGTG...</td>\n",
       "      <td>6</td>\n",
       "      <td>[atgcag, tgcagt, gcagtc, cagtcc, agtcct, gtcct...</td>\n",
       "      <td>5817</td>\n",
       "    </tr>\n",
       "    <tr>\n",
       "      <th>4378</th>\n",
       "      <td>GACAACACCACCAAAGCACCTGGCAACCTCGGTGGAACCTCCATCA...</td>\n",
       "      <td>6</td>\n",
       "      <td>[atgggg, tggggc, ggggca, gggcac, ggcacc, gcacc...</td>\n",
       "      <td>753</td>\n",
       "    </tr>\n",
       "    <tr>\n",
       "      <th>4379</th>\n",
       "      <td>TAGGTCGGTCGGCCGCACAGGCCAAACATCTGGAACGGGAGGGAAG...</td>\n",
       "      <td>6</td>\n",
       "      <td>[atgcag, tgcagt, gcagtc, cagtcc, agtcct, gtcct...</td>\n",
       "      <td>459</td>\n",
       "    </tr>\n",
       "  </tbody>\n",
       "</table>\n",
       "<p>4380 rows × 4 columns</p>\n",
       "</div>\n",
       "      <button class=\"colab-df-convert\" onclick=\"convertToInteractive('df-42143836-e012-440b-888f-eeb859c062e7')\"\n",
       "              title=\"Convert this dataframe to an interactive table.\"\n",
       "              style=\"display:none;\">\n",
       "        \n",
       "  <svg xmlns=\"http://www.w3.org/2000/svg\" height=\"24px\"viewBox=\"0 0 24 24\"\n",
       "       width=\"24px\">\n",
       "    <path d=\"M0 0h24v24H0V0z\" fill=\"none\"/>\n",
       "    <path d=\"M18.56 5.44l.94 2.06.94-2.06 2.06-.94-2.06-.94-.94-2.06-.94 2.06-2.06.94zm-11 1L8.5 8.5l.94-2.06 2.06-.94-2.06-.94L8.5 2.5l-.94 2.06-2.06.94zm10 10l.94 2.06.94-2.06 2.06-.94-2.06-.94-.94-2.06-.94 2.06-2.06.94z\"/><path d=\"M17.41 7.96l-1.37-1.37c-.4-.4-.92-.59-1.43-.59-.52 0-1.04.2-1.43.59L10.3 9.45l-7.72 7.72c-.78.78-.78 2.05 0 2.83L4 21.41c.39.39.9.59 1.41.59.51 0 1.02-.2 1.41-.59l7.78-7.78 2.81-2.81c.8-.78.8-2.07 0-2.86zM5.41 20L4 18.59l7.72-7.72 1.47 1.35L5.41 20z\"/>\n",
       "  </svg>\n",
       "      </button>\n",
       "      \n",
       "  <style>\n",
       "    .colab-df-container {\n",
       "      display:flex;\n",
       "      flex-wrap:wrap;\n",
       "      gap: 12px;\n",
       "    }\n",
       "\n",
       "    .colab-df-convert {\n",
       "      background-color: #E8F0FE;\n",
       "      border: none;\n",
       "      border-radius: 50%;\n",
       "      cursor: pointer;\n",
       "      display: none;\n",
       "      fill: #1967D2;\n",
       "      height: 32px;\n",
       "      padding: 0 0 0 0;\n",
       "      width: 32px;\n",
       "    }\n",
       "\n",
       "    .colab-df-convert:hover {\n",
       "      background-color: #E2EBFA;\n",
       "      box-shadow: 0px 1px 2px rgba(60, 64, 67, 0.3), 0px 1px 3px 1px rgba(60, 64, 67, 0.15);\n",
       "      fill: #174EA6;\n",
       "    }\n",
       "\n",
       "    [theme=dark] .colab-df-convert {\n",
       "      background-color: #3B4455;\n",
       "      fill: #D2E3FC;\n",
       "    }\n",
       "\n",
       "    [theme=dark] .colab-df-convert:hover {\n",
       "      background-color: #434B5C;\n",
       "      box-shadow: 0px 1px 3px 1px rgba(0, 0, 0, 0.15);\n",
       "      filter: drop-shadow(0px 1px 2px rgba(0, 0, 0, 0.3));\n",
       "      fill: #FFFFFF;\n",
       "    }\n",
       "  </style>\n",
       "\n",
       "      <script>\n",
       "        const buttonEl =\n",
       "          document.querySelector('#df-42143836-e012-440b-888f-eeb859c062e7 button.colab-df-convert');\n",
       "        buttonEl.style.display =\n",
       "          google.colab.kernel.accessAllowed ? 'block' : 'none';\n",
       "\n",
       "        async function convertToInteractive(key) {\n",
       "          const element = document.querySelector('#df-42143836-e012-440b-888f-eeb859c062e7');\n",
       "          const dataTable =\n",
       "            await google.colab.kernel.invokeFunction('convertToInteractive',\n",
       "                                                     [key], {});\n",
       "          if (!dataTable) return;\n",
       "\n",
       "          const docLinkHtml = 'Like what you see? Visit the ' +\n",
       "            '<a target=\"_blank\" href=https://colab.research.google.com/notebooks/data_table.ipynb>data table notebook</a>'\n",
       "            + ' to learn more about interactive tables.';\n",
       "          element.innerHTML = '';\n",
       "          dataTable['output_type'] = 'display_data';\n",
       "          await google.colab.output.renderOutput(dataTable, element);\n",
       "          const docLink = document.createElement('div');\n",
       "          docLink.innerHTML = docLinkHtml;\n",
       "          element.appendChild(docLink);\n",
       "        }\n",
       "      </script>\n",
       "    </div>\n",
       "  </div>\n",
       "  "
      ]
     },
     "metadata": {},
     "execution_count": 285
    }
   ]
  },
  {
   "cell_type": "code",
   "execution_count": 221,
   "metadata": {
    "id": "qSNNNrjtT7EF",
    "executionInfo": {
     "status": "ok",
     "timestamp": 1659265870466,
     "user_tz": -120,
     "elapsed": 412,
     "user": {
      "displayName": "Alicja K",
      "userId": "13434916405182302339"
     }
    },
    "pycharm": {
     "name": "#%%\n"
    }
   },
   "outputs": [],
   "source": [
    "#  copy of kaggle work\n",
    "from sklearn.feature_extraction.text import CountVectorizer\n",
    "from sklearn.model_selection import train_test_split\n",
    "\n",
    "def Kmers_funct(seq, size=6):\n",
    "    return [seq[x:x+size].lower() for x in range(len(seq) - size + 1)]\n",
    "\n",
    "def kaggle_process(dna):\n",
    "    dna['words'] = dna.apply(lambda x: Kmers_funct(x['sequence']), axis=1)\n",
    "    dna = dna.drop('sequence', axis=1)\n",
    "\n",
    "    texts = list(dna['words'])\n",
    "    for item in range(len(texts)):\n",
    "        texts[item] = ' '.join(texts[item])\n",
    "    #separate labels\n",
    "    y = dna.iloc[:, 0].values # y_human for human_dna\n",
    "\n",
    "    cv = CountVectorizer(ngram_range=(4,4)) #The n-gram size of 4 is previously determined by testing\n",
    "    X = cv.fit_transform(texts)\n",
    "\n",
    "    X_train, X_test, y_train, y_test = train_test_split(X, \n",
    "                                                    y, \n",
    "                                                    test_size = 0.20, \n",
    "                                                    random_state=42)\n",
    "\n",
    "    return X_train, X_test, y_train, y_test"
   ]
  },
  {
   "cell_type": "code",
   "source": [
    "# copy of kaggle work\n",
    "from sklearn.feature_extraction.text import CountVectorizer\n",
    "from sklearn.model_selection import train_test_split\n",
    "\n",
    "def Kmers_funct(seq, size=6):\n",
    "    return [seq[x:x+size].lower() for x in range(len(seq) - size + 1)]\n",
    "\n",
    "def kaggle_preprocess(dna):\n",
    "    dna['words'] = dna.apply(lambda x: Kmers_funct(x['sequence']), axis=1)\n",
    "    dna = dna.drop('sequence', axis=1)\n",
    "\n",
    "    texts = list(dna['words'])\n",
    "    for item in range(len(texts)):\n",
    "        texts[item] = ' '.join(texts[item])\n",
    "\n",
    "    #separate labels\n",
    "    y = dna.iloc[:, 0].values # y_human for human_dna\n",
    "\n",
    "    return texts, y\n",
    "\n",
    "def kaggle_process(dna, dna_syn):\n",
    "\n",
    "    texts, y = kaggle_preprocess(dna)\n",
    "    texts_syn, y_syn = kaggle_preprocess(dna_syn)\n",
    "\n",
    "\n",
    "    cv = CountVectorizer(ngram_range=(4,4)) #The n-gram size of 4 is previously determined by testing\n",
    "    X = cv.fit_transform(texts)\n",
    "    X_syn = cv.transform(texts_syn)\n",
    "\n",
    "    X_train, X_test, y_train, y_test = train_test_split(X, \n",
    "                                                    y, \n",
    "                                                    test_size = 0.20, \n",
    "                                                    random_state=42)\n",
    "    \n",
    "    X_train_syn, X_test_syn, y_train_syn, y_test_syn = train_test_split(X_syn, \n",
    "                                                    y_syn, \n",
    "                                                    test_size = 0.20, \n",
    "                                                    random_state=42)\n",
    "\n",
    "    return X_train, X_test, y_train, y_test, X_test_syn, y_test_syn"
   ],
   "metadata": {
    "id": "MnYh-UA6AIOC",
    "executionInfo": {
     "status": "ok",
     "timestamp": 1659266967328,
     "user_tz": -120,
     "elapsed": 350,
     "user": {
      "displayName": "Alicja K",
      "userId": "13434916405182302339"
     }
    },
    "pycharm": {
     "name": "#%%\n"
    }
   },
   "execution_count": 235,
   "outputs": []
  },
  {
   "cell_type": "code",
   "source": [
    "X_train, X_test, y_train, y_test, X_test_syn, y_test_syn = kaggle_process(kaggle_dna, synthetic_dna)"
   ],
   "metadata": {
    "id": "iFnjsPRd8lq4",
    "executionInfo": {
     "status": "ok",
     "timestamp": 1659272639271,
     "user_tz": -120,
     "elapsed": 20923,
     "user": {
      "displayName": "Alicja K",
      "userId": "13434916405182302339"
     }
    },
    "pycharm": {
     "name": "#%%\n"
    }
   },
   "execution_count": 286,
   "outputs": []
  },
  {
   "cell_type": "code",
   "execution_count": 287,
   "metadata": {
    "id": "-n-AoJllVlBK",
    "executionInfo": {
     "status": "ok",
     "timestamp": 1659272639272,
     "user_tz": -120,
     "elapsed": 31,
     "user": {
      "displayName": "Alicja K",
      "userId": "13434916405182302339"
     }
    },
    "pycharm": {
     "name": "#%%\n"
    }
   },
   "outputs": [],
   "source": [
    "# generating the models for both sets of data with identical settings as per Kaggle\n",
    "from sklearn.naive_bayes import MultinomialNB\n",
    "\n",
    "classifier = MultinomialNB(alpha=0.1)\n",
    "classifier.fit(X_train, y_train)\n",
    "y_pred = classifier.predict(X_test)\n",
    "y_pred_syn = classifier.predict(X_test_syn)"
   ]
  },
  {
   "cell_type": "code",
   "execution_count": 210,
   "metadata": {
    "id": "ccbs2y2IWef5",
    "executionInfo": {
     "status": "ok",
     "timestamp": 1659265006699,
     "user_tz": -120,
     "elapsed": 16,
     "user": {
      "displayName": "Alicja K",
      "userId": "13434916405182302339"
     }
    },
    "pycharm": {
     "name": "#%%\n"
    }
   },
   "outputs": [],
   "source": [
    "# evaluation functions\n",
    "from sklearn.metrics import accuracy_score, f1_score, precision_score, recall_score\n",
    "\n",
    "def get_metrics(y_test, y_predicted):\n",
    "    accuracy = accuracy_score(y_test, y_predicted)\n",
    "    precision = precision_score(y_test, y_predicted, average='weighted')\n",
    "    recall = recall_score(y_test, y_predicted, average='weighted')\n",
    "    f1 = f1_score(y_test, y_predicted, average='weighted')\n",
    "    return accuracy, precision, recall, f1"
   ]
  },
  {
   "cell_type": "code",
   "source": [
    "# Confusion Matrix for Original Data\n",
    "print(\"Confusion Matrix (Original Sequences)\\n\")\n",
    "print(pd.crosstab(pd.Series(y_test, name='Actual'), pd.Series(y_pred, name='Predicted')))\n",
    "accuracy, precision, recall, f1 = get_metrics(y_test, y_pred)\n",
    "print(\"accuracy = %.3f \\nprecision = %.3f \\nrecall = %.3f \\nf1 = %.3f\" % (accuracy, precision, recall, f1))"
   ],
   "metadata": {
    "colab": {
     "base_uri": "https://localhost:8080/"
    },
    "id": "JXN3Wk9Q5peZ",
    "executionInfo": {
     "status": "ok",
     "timestamp": 1659267553994,
     "user_tz": -120,
     "elapsed": 317,
     "user": {
      "displayName": "Alicja K",
      "userId": "13434916405182302339"
     }
    },
    "outputId": "022fe710-fd34-4439-cfb4-fc00d6cfcff4",
    "pycharm": {
     "name": "#%%\n"
    }
   },
   "execution_count": 250,
   "outputs": [
    {
     "output_type": "stream",
     "name": "stdout",
     "text": [
      "Confusion Matrix (Original Sequences)\n",
      "\n",
      "Predicted   0    1   2    3    4   5    6\n",
      "Actual                                   \n",
      "0          99    0   0    0    1   0    2\n",
      "1           0  104   0    0    0   0    2\n",
      "2           0    0  78    0    0   0    0\n",
      "3           0    0   0  124    0   0    1\n",
      "4           1    0   0    0  143   0    5\n",
      "5           0    0   0    0    0  51    0\n",
      "6           1    0   0    1    0   0  263\n",
      "accuracy = 0.984 \n",
      "precision = 0.984 \n",
      "recall = 0.984 \n",
      "f1 = 0.984\n"
     ]
    }
   ]
  },
  {
   "cell_type": "code",
   "source": [
    "# Confusion Matrix for Synthetic Data\n",
    "print(\"Confusion Matrix (Synthetic Sequences)\\n\")\n",
    "print(pd.crosstab(pd.Series(y_test_syn, name='Actual'), pd.Series(y_pred_syn, name='Predicted')))\n",
    "accuracy, precision, recall, f1 = get_metrics(y_test_syn, y_pred_syn)\n",
    "print(\"accuracy = %.3f \\nprecision = %.3f \\nrecall = %.3f \\nf1 = %.3f\" % (accuracy, precision, recall, f1))"
   ],
   "metadata": {
    "colab": {
     "base_uri": "https://localhost:8080/"
    },
    "id": "3uJWojEFX5-N",
    "executionInfo": {
     "status": "ok",
     "timestamp": 1659272939289,
     "user_tz": -120,
     "elapsed": 418,
     "user": {
      "displayName": "Alicja K",
      "userId": "13434916405182302339"
     }
    },
    "outputId": "38ef7181-cb26-4577-f03a-e5270086f0b5",
    "pycharm": {
     "name": "#%%\n"
    }
   },
   "execution_count": 289,
   "outputs": [
    {
     "output_type": "stream",
     "name": "stdout",
     "text": [
      "Confusion Matrix (Synthetic Sequences)\n",
      "\n",
      "Predicted   0  1   3   4  5    6\n",
      "Actual                          \n",
      "0          65  0   2   4  0   31\n",
      "1          10  1   0  10  0   85\n",
      "2           6  0   1   4  0   67\n",
      "3          13  0  10  14  1   87\n",
      "4          12  0   5  42  0   90\n",
      "5          15  0   1   4  0   31\n",
      "6           4  0   3   4  0  254\n",
      "accuracy = 0.425 \n",
      "precision = 0.453 \n",
      "recall = 0.425 \n",
      "f1 = 0.319\n"
     ]
    },
    {
     "output_type": "stream",
     "name": "stderr",
     "text": [
      "/usr/local/lib/python3.7/dist-packages/sklearn/metrics/_classification.py:1318: UndefinedMetricWarning: Precision is ill-defined and being set to 0.0 in labels with no predicted samples. Use `zero_division` parameter to control this behavior.\n",
      "  _warn_prf(average, modifier, msg_start, len(result))\n"
     ]
    }
   ]
  },
  {
   "cell_type": "code",
   "execution_count": 290,
   "metadata": {
    "id": "mWltipwyk7HG",
    "colab": {
     "base_uri": "https://localhost:8080/"
    },
    "executionInfo": {
     "status": "ok",
     "timestamp": 1659274983322,
     "user_tz": -120,
     "elapsed": 13388,
     "user": {
      "displayName": "Alicja K",
      "userId": "13434916405182302339"
     }
    },
    "outputId": "cf4d11dc-f283-423c-fe39-464a1bd37241",
    "pycharm": {
     "name": "#%%\n"
    }
   },
   "outputs": [
    {
     "output_type": "stream",
     "name": "stdout",
     "text": [
      "Cloning into 'eval'...\n",
      "remote: Enumerating objects: 87, done.\u001B[K\n",
      "remote: Total 87 (delta 0), reused 0 (delta 0), pack-reused 87\u001B[K\n",
      "Unpacking objects: 100% (87/87), done.\n",
      "-----Cochran's Q Test-----\n",
      "============================\n",
      "Q-Score         478.2869\n",
      "p-value         5.04e-106\n",
      "Reject? (99%)      True\n",
      "\n",
      "\n",
      "+----------+-----------+-------------------+-------------------------+---------+\n",
      "| Model 1  |  Model 2  |        Chi²       |         p-Value         | Reject? |\n",
      "+----------+-----------+-------------------+-------------------------+---------+\n",
      "| Original | Synthetic | 476.3366533864542 | 1.3393251117203914e-105 |   True  |\n",
      "+----------+-----------+-------------------+-------------------------+---------+\n"
     ]
    },
    {
     "output_type": "stream",
     "name": "stderr",
     "text": [
      "/usr/local/lib/python3.7/dist-packages/mlxtend/evaluate/cochrans_q.py:75: FutureWarning: arrays to stack must be passed as a \"sequence\" type such as list or tuple. Support for non-sequence iterables such as generators is deprecated as of NumPy 1.16 and will raise an error in the future.\n",
      "  mod in y_model_predictions)).astype(int)\n"
     ]
    }
   ],
   "source": [
    "# McNemar's Test Comparing the Two Results\n",
    "\n",
    "#clear eval directory and download script - reusing a script written for ML Ass 3\n",
    "!rm -rf eval/\n",
    "!git clone https://github.com/akrlowicz/eval/\n",
    "\n",
    "from eval import ml3_evaluation_final\n",
    "\n",
    "model_name_list = ['Original', 'Synthetic']\n",
    "preds_array = [y_pred, y_pred_syn]\n",
    "\n",
    "ml3_evaluation_final.multiple_mcnemar(model_name_list, preds_array, y_test, 0.01)\n"
   ]
  }
 ],
 "metadata": {
  "colab": {
   "collapsed_sections": [],
   "machine_shape": "hm",
   "name": "DNA Synthetic Generation BL Adaptation 2022 07 25.ipynb",
   "provenance": []
  },
  "gpuClass": "standard",
  "kernelspec": {
   "display_name": "Python 3",
   "language": "python",
   "name": "python3"
  },
  "language_info": {
   "codemirror_mode": {
    "name": "ipython",
    "version": 2
   },
   "file_extension": ".py",
   "mimetype": "text/x-python",
   "name": "python",
   "nbconvert_exporter": "python",
   "pygments_lexer": "ipython2",
   "version": "2.7.6"
  }
 },
 "nbformat": 4,
 "nbformat_minor": 0
}